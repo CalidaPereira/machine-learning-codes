{
 "cells": [
  {
   "cell_type": "code",
   "execution_count": 92,
   "metadata": {},
   "outputs": [
    {
     "name": "stderr",
     "output_type": "stream",
     "text": [
      "[nltk_data] Downloading package punkt to\n",
      "[nltk_data]     C:\\Users\\calid\\AppData\\Roaming\\nltk_data...\n",
      "[nltk_data]   Package punkt is already up-to-date!\n",
      "[nltk_data] Downloading package wordnet to\n",
      "[nltk_data]     C:\\Users\\calid\\AppData\\Roaming\\nltk_data...\n",
      "[nltk_data]   Package wordnet is already up-to-date!\n"
     ]
    }
   ],
   "source": [
    "import pandas as pd\n",
    "import nltk \n",
    "import string \n",
    "import re \n",
    "from nltk.corpus import stopwords                   \n",
    "from nltk.stem import PorterStemmer                 \n",
    "from nltk.stem import WordNetLemmatizer\n",
    "from sklearn.feature_extraction.text import CountVectorizer         \n",
    "from sklearn.feature_extraction.text import TfidfVectorizer          \n",
    "nltk.download('punkt')\n",
    "nltk.download('wordnet')\n",
    "from sklearn.feature_selection import SelectKBest \n",
    "from sklearn.feature_selection import chi2\n",
    "from sklearn.feature_selection import mutual_info_classif\n",
    "from sklearn.feature_selection import f_classif\n",
    "from sklearn.naive_bayes import MultinomialNB\n",
    "from sklearn.metrics import accuracy_score\n",
    "from sklearn.linear_model import SGDClassifier\n",
    "from sklearn.linear_model import LogisticRegression\n",
    "from sklearn.ensemble import RandomForestClassifier\n",
    "from warnings import simplefilter\n",
    "import matplotlib.pyplot as plot"
   ]
  },
  {
   "cell_type": "code",
   "execution_count": 93,
   "metadata": {},
   "outputs": [],
   "source": [
    "#Loading the data set - training data.\n",
    "from sklearn.datasets import fetch_20newsgroups\n",
    "\n",
    "#Importing training data\n",
    "mydata_train = fetch_20newsgroups(subset='train', shuffle=True, remove = ('headers', 'footers', 'quotes'))\n",
    "\n",
    "#Importing test data\n",
    "mydata_test = fetch_20newsgroups(subset='test', shuffle=True, remove = ('headers', 'footers', 'quotes'))"
   ]
  },
  {
   "cell_type": "code",
   "execution_count": 94,
   "metadata": {},
   "outputs": [
    {
     "name": "stdout",
     "output_type": "stream",
     "text": [
      "Training data size: 11314\n",
      "Test data size: 7532\n"
     ]
    }
   ],
   "source": [
    "#Size of the training data\n",
    "print('Training data size:', len(mydata_train['data']))\n",
    "\n",
    "#Size of the test data\n",
    "print('Test data size:', len(mydata_test['data']))"
   ]
  },
  {
   "cell_type": "code",
   "execution_count": 95,
   "metadata": {},
   "outputs": [
    {
     "data": {
      "text/html": [
       "<div>\n",
       "<style scoped>\n",
       "    .dataframe tbody tr th:only-of-type {\n",
       "        vertical-align: middle;\n",
       "    }\n",
       "\n",
       "    .dataframe tbody tr th {\n",
       "        vertical-align: top;\n",
       "    }\n",
       "\n",
       "    .dataframe thead th {\n",
       "        text-align: right;\n",
       "    }\n",
       "</style>\n",
       "<table border=\"1\" class=\"dataframe\">\n",
       "  <thead>\n",
       "    <tr style=\"text-align: right;\">\n",
       "      <th></th>\n",
       "      <th>data</th>\n",
       "      <th>target</th>\n",
       "    </tr>\n",
       "  </thead>\n",
       "  <tbody>\n",
       "    <tr>\n",
       "      <td>0</td>\n",
       "      <td>I am a little confused on all of the models of...</td>\n",
       "      <td>7</td>\n",
       "    </tr>\n",
       "    <tr>\n",
       "      <td>1</td>\n",
       "      <td>I'm not familiar at all with the format of the...</td>\n",
       "      <td>5</td>\n",
       "    </tr>\n",
       "    <tr>\n",
       "      <td>2</td>\n",
       "      <td>\\nIn a word, yes.\\n</td>\n",
       "      <td>0</td>\n",
       "    </tr>\n",
       "    <tr>\n",
       "      <td>3</td>\n",
       "      <td>\\nThey were attacking the Iraqis to drive them...</td>\n",
       "      <td>17</td>\n",
       "    </tr>\n",
       "    <tr>\n",
       "      <td>4</td>\n",
       "      <td>\\nI've just spent two solid months arguing tha...</td>\n",
       "      <td>19</td>\n",
       "    </tr>\n",
       "  </tbody>\n",
       "</table>\n",
       "</div>"
      ],
      "text/plain": [
       "                                                data  target\n",
       "0  I am a little confused on all of the models of...       7\n",
       "1  I'm not familiar at all with the format of the...       5\n",
       "2                                \\nIn a word, yes.\\n       0\n",
       "3  \\nThey were attacking the Iraqis to drive them...      17\n",
       "4  \\nI've just spent two solid months arguing tha...      19"
      ]
     },
     "execution_count": 95,
     "metadata": {},
     "output_type": "execute_result"
    }
   ],
   "source": [
    "#storing training data in a dataframe\n",
    "mydata_train_df = pd.DataFrame({'data': mydata_train.data, 'target': mydata_train.target})\n",
    "mydata_train_df.head()\n",
    "\n",
    "#Storing test data in a dataframe\n",
    "mydata_test_df = pd.DataFrame({'data': mydata_test.data, 'target': mydata_test.target})\n",
    "mydata_test_df.head()"
   ]
  },
  {
   "cell_type": "code",
   "execution_count": 96,
   "metadata": {},
   "outputs": [],
   "source": [
    "#Preprocessor function\n",
    "def preprocessor(dataframe):\n",
    "    #Stemming & Lemmatizing \n",
    "    # init stemmer\n",
    "    porter_stemmer=PorterStemmer()\n",
    "\n",
    "    # init lemmatizer\n",
    "    lemmatizer = WordNetLemmatizer()\n",
    "\n",
    "    #stop words\n",
    "    stop = stopwords.words('english')\n",
    "\n",
    "    #remove non-alphabets\n",
    "    alphabet_regular_expression = re.compile(\"[^a-zA-Z]\")\n",
    "\n",
    "    elements = len(dataframe.data)\n",
    "\n",
    "    for i in  range(elements):\n",
    "        lemmaAndStem=''\n",
    "        df_words = dataframe.data[i].split()      \n",
    "        lower_words=[word.lower() for word in df_words]                                            #Lower casing\n",
    "        stop_words = [w for w in lower_words if not w in stop]                                     #Removing stop words\n",
    "        remove_non_alphabet = [re.sub(alphabet_regular_expression,\"\",y) for y in stop_words]       #Removing non -alphabets\n",
    "        remove_unicode = [re.sub(r\"(\\xe9|\\362)\", \"\", y) for y in remove_non_alphabet]              #Removing unicode\n",
    "        stemmed_words=[porter_stemmer.stem(word=word) for word in remove_unicode]                  #Stemming\n",
    "        lemmatized_words=[lemmatizer.lemmatize(word=word,pos='v') for word in stemmed_words]       #Lemmatizing\n",
    "        lemmaAndStem = \" \".join(lemmatized_words)\n",
    "        dataframe.data[i] = lemmaAndStem   \n",
    "    \n",
    "    return dataframe\n",
    "    "
   ]
  },
  {
   "cell_type": "code",
   "execution_count": 97,
   "metadata": {},
   "outputs": [
    {
     "name": "stderr",
     "output_type": "stream",
     "text": [
      "C:\\ProgramData\\Anaconda3\\lib\\site-packages\\ipykernel_launcher.py:28: SettingWithCopyWarning: \n",
      "A value is trying to be set on a copy of a slice from a DataFrame\n",
      "\n",
      "See the caveats in the documentation: http://pandas.pydata.org/pandas-docs/stable/user_guide/indexing.html#returning-a-view-versus-a-copy\n"
     ]
    }
   ],
   "source": [
    "#Preprocessing training & test data\n",
    "mydata_train_df = preprocessor(mydata_train_df)\n",
    "mydata_test_df  = preprocessor(mydata_test_df) "
   ]
  },
  {
   "cell_type": "code",
   "execution_count": 98,
   "metadata": {},
   "outputs": [
    {
     "data": {
      "text/html": [
       "<div>\n",
       "<style scoped>\n",
       "    .dataframe tbody tr th:only-of-type {\n",
       "        vertical-align: middle;\n",
       "    }\n",
       "\n",
       "    .dataframe tbody tr th {\n",
       "        vertical-align: top;\n",
       "    }\n",
       "\n",
       "    .dataframe thead th {\n",
       "        text-align: right;\n",
       "    }\n",
       "</style>\n",
       "<table border=\"1\" class=\"dataframe\">\n",
       "  <thead>\n",
       "    <tr style=\"text-align: right;\">\n",
       "      <th></th>\n",
       "      <th>data</th>\n",
       "      <th>target</th>\n",
       "    </tr>\n",
       "  </thead>\n",
       "  <tbody>\n",
       "    <tr>\n",
       "      <td>0</td>\n",
       "      <td>wonder anyon could enlighten car saw day door ...</td>\n",
       "      <td>7</td>\n",
       "    </tr>\n",
       "    <tr>\n",
       "      <td>1</td>\n",
       "      <td>fair number brave soul upgrad si clock oscil s...</td>\n",
       "      <td>4</td>\n",
       "    </tr>\n",
       "    <tr>\n",
       "      <td>2</td>\n",
       "      <td>well folk mac plu final give ghost weekend sta...</td>\n",
       "      <td>4</td>\n",
       "    </tr>\n",
       "    <tr>\n",
       "      <td>3</td>\n",
       "      <td>weitek addressphon number id like get inform chip</td>\n",
       "      <td>1</td>\n",
       "    </tr>\n",
       "    <tr>\n",
       "      <td>4</td>\n",
       "      <td>articl cowcbnpworldstdcom tombakerworldstdcom ...</td>\n",
       "      <td>14</td>\n",
       "    </tr>\n",
       "    <tr>\n",
       "      <td>...</td>\n",
       "      <td>...</td>\n",
       "      <td>...</td>\n",
       "    </tr>\n",
       "    <tr>\n",
       "      <td>11309</td>\n",
       "      <td>dn from nyedacnsvaxuwecedu david nye dn neurol...</td>\n",
       "      <td>13</td>\n",
       "    </tr>\n",
       "    <tr>\n",
       "      <td>11310</td>\n",
       "      <td>veri old mac k mac plu problem screen blank ou...</td>\n",
       "      <td>4</td>\n",
       "    </tr>\n",
       "    <tr>\n",
       "      <td>11311</td>\n",
       "      <td>instal dx cpu clone motherboard tri mount cpu ...</td>\n",
       "      <td>3</td>\n",
       "    </tr>\n",
       "    <tr>\n",
       "      <td>11312</td>\n",
       "      <td>requir hyperspher space  point specifi sphere ...</td>\n",
       "      <td>1</td>\n",
       "    </tr>\n",
       "    <tr>\n",
       "      <td>11313</td>\n",
       "      <td>steal pasadena   pm  blue white honda cbrrr ca...</td>\n",
       "      <td>8</td>\n",
       "    </tr>\n",
       "  </tbody>\n",
       "</table>\n",
       "<p>11314 rows × 2 columns</p>\n",
       "</div>"
      ],
      "text/plain": [
       "                                                    data  target\n",
       "0      wonder anyon could enlighten car saw day door ...       7\n",
       "1      fair number brave soul upgrad si clock oscil s...       4\n",
       "2      well folk mac plu final give ghost weekend sta...       4\n",
       "3      weitek addressphon number id like get inform chip       1\n",
       "4      articl cowcbnpworldstdcom tombakerworldstdcom ...      14\n",
       "...                                                  ...     ...\n",
       "11309  dn from nyedacnsvaxuwecedu david nye dn neurol...      13\n",
       "11310  veri old mac k mac plu problem screen blank ou...       4\n",
       "11311  instal dx cpu clone motherboard tri mount cpu ...       3\n",
       "11312  requir hyperspher space  point specifi sphere ...       1\n",
       "11313  steal pasadena   pm  blue white honda cbrrr ca...       8\n",
       "\n",
       "[11314 rows x 2 columns]"
      ]
     },
     "execution_count": 98,
     "metadata": {},
     "output_type": "execute_result"
    }
   ],
   "source": [
    "mydata_train_df"
   ]
  },
  {
   "cell_type": "code",
   "execution_count": 99,
   "metadata": {},
   "outputs": [],
   "source": [
    "#Tokenization \n",
    "vectorizer = CountVectorizer()\n",
    "\n",
    "x_train = vectorizer.fit_transform(mydata_train_df.data)\n",
    "features_train = pd.DataFrame(vectorizer.get_feature_names())\n",
    "\n",
    "x_test  = vectorizer.transform(mydata_test_df.data)\n"
   ]
  },
  {
   "cell_type": "code",
   "execution_count": 100,
   "metadata": {},
   "outputs": [
    {
     "data": {
      "text/plain": [
       "73401"
      ]
     },
     "execution_count": 100,
     "metadata": {},
     "output_type": "execute_result"
    }
   ],
   "source": [
    "#Deciding best classifier/ model for the dataset\n",
    "len(features_train)"
   ]
  },
  {
   "cell_type": "code",
   "execution_count": 101,
   "metadata": {},
   "outputs": [],
   "source": [
    "#Multinomial Naive Bayes Classifier\n",
    "def NB(train_vect, test_vect, train_df, test_df):\n",
    "    clf = MultinomialNB()\n",
    "    clf.fit(train_vect, train_df.target)\n",
    "    pred = clf.predict(test_vect)\n",
    "    accuracy = (accuracy_score(test_df.target,pred))\n",
    "    return accuracy \n",
    "\n",
    "#Stochastic gradient descent classifier\n",
    "def SGD(train_vect, test_vect, train_df, test_df):\n",
    "    clf = SGDClassifier(loss='hinge', penalty='l2', alpha=1e-3, random_state=42, max_iter=5, tol=None)\n",
    "    clf.fit(train_vect, train_df.target)\n",
    "    pred = clf.predict(test_vect)\n",
    "    accuracy = (accuracy_score(test_df.target,pred))\n",
    "    return accuracy \n",
    "\n",
    "#Random Forest Classifier\n",
    "def RF(train_vect, test_vect, train_df, test_df):\n",
    "    clf = RandomForestClassifier(n_estimators=200, max_depth=3, random_state=0)\n",
    "    clf.fit(train_vect, train_df.target)\n",
    "    pred = clf.predict(test_vect)\n",
    "    accuracy = (accuracy_score(test_df.target,pred))\n",
    "    return accuracy \n",
    "        \n",
    "#Logistic Regression      \n",
    "def LR(train_vect, test_vect, train_df, test_df):\n",
    "    simplefilter(action='ignore', category=FutureWarning)\n",
    "    clf = LogisticRegression(random_state=0)\n",
    "    clf.fit(train_vect, train_df.target)\n",
    "    pred = clf.predict(test_vect)\n",
    "    accuracy = (accuracy_score(test_df.target,pred))\n",
    "    return accuracy "
   ]
  },
  {
   "cell_type": "code",
   "execution_count": 102,
   "metadata": {},
   "outputs": [
    {
     "name": "stdout",
     "output_type": "stream",
     "text": [
      "                    classifier  accuracy\n",
      "0                  Naive Bayes  0.618030\n",
      "1  Stochastic Gradient Descent  0.599841\n",
      "2                Random Forest  0.487254\n",
      "3          Logistic Regression  0.626925\n"
     ]
    }
   ],
   "source": [
    "#Accuracy of Classifiers \n",
    "classifier_perf = pd.DataFrame(columns=['classifier', 'accuracy'])\n",
    "classifier_perf = classifier_perf.append({'classifier': \"Naive Bayes\", 'accuracy': NB(x_train,x_test,mydata_train_df, mydata_test_df)}, ignore_index=True)\n",
    "classifier_perf = classifier_perf.append({'classifier': \"Stochastic Gradient Descent\", 'accuracy': SGD(x_train,x_test,mydata_train_df, mydata_test_df)}, ignore_index=True)\n",
    "classifier_perf = classifier_perf.append({'classifier': \"Random Forest\", 'accuracy': RF(x_train,x_test,mydata_train_df, mydata_test_df)}, ignore_index=True)\n",
    "classifier_perf = classifier_perf.append({'classifier': \"Logistic Regression\", 'accuracy': LR(x_train,x_test,mydata_train_df, mydata_test_df)}, ignore_index=True)\n",
    "\n",
    "print(classifier_perf)"
   ]
  },
  {
   "cell_type": "code",
   "execution_count": 103,
   "metadata": {},
   "outputs": [
    {
     "data": {
      "image/png": "[encoded data removed]",
      "text/plain": [
       "<Figure size 432x288 with 1 Axes>"
      ]
     },
     "metadata": {
      "needs_background": "light"
     },
     "output_type": "display_data"
    }
   ],
   "source": [
    "classifier_perf.plot.bar(x=\"classifier\", y=\"accuracy\", rot=20, title=\"Accuracy of classifier after preprocessing without filters\");\n",
    "plot.show(block=True);"
   ]
  },
  {
   "cell_type": "code",
   "execution_count": 104,
   "metadata": {},
   "outputs": [],
   "source": [
    "#Identifying best filter for feature reduction"
   ]
  },
  {
   "cell_type": "code",
   "execution_count": 105,
   "metadata": {},
   "outputs": [],
   "source": [
    "#Chi Square\n",
    "def Chi(train_vect,train_df,train_features,k):\n",
    "    selector = SelectKBest(chi2, k=k)\n",
    "    selector.fit(x_train, train_df.target)\n",
    "\n",
    "    indices = selector.get_support(indices=True)                        #k new features \n",
    "    scores  = pd.DataFrame(selector.scores_)                            #All chi scores\n",
    "    pvalues = pd.DataFrame(selector.pvalues_)                           #ALl p values\n",
    "\n",
    "    new_features=[]\n",
    "    new_features = pd.DataFrame(train_features.iloc[indices])           #Putting new features a dataframe\n",
    "    new_features = new_features.rename(columns = {0:\"features\"}) \n",
    "\n",
    "    feature_scores = scores.iloc[indices]                               #Putting scores in the dataframe\n",
    "    new_features['feature_scores'] = feature_scores\n",
    "\n",
    "    feature_pvalues = pvalues.iloc[indices]                             #Putting pvalues in the dataframe\n",
    "    new_features['feature_pvalues'] = feature_pvalues\n",
    "    \n",
    "    return indices\n",
    "\n",
    "#Mutual Information\n",
    "def Mut(train_vect,train_df,train_features,k):\n",
    "    selector = SelectKBest(mutual_info_classif, k=k)\n",
    "    selector.fit(x_train, train_df.target)\n",
    "    indices = selector.get_support(indices=True)                        #k new features \n",
    "    return indices\n",
    "\n",
    "#ANOVA\n",
    "def Anova(train_vect,train_df,train_features,k):\n",
    "    selector = SelectKBest(f_classif, k=k)\n",
    "    selector.fit(x_train, train_df.target)\n",
    "    indices = selector.get_support(indices=True)                        #k new features \n",
    "    return indices"
   ]
  },
  {
   "cell_type": "code",
   "execution_count": 109,
   "metadata": {},
   "outputs": [],
   "source": [
    "def get_new_features_chi(k):\n",
    "    indices = Chi(x_train,mydata_train_df,features_train,k)\n",
    "    accuracy = eval(indices)\n",
    "    return accuracy\n",
    "\n",
    "def get_new_features_mut(k):\n",
    "    indices = Mut(x_train,mydata_train_df,features_train,k)\n",
    "    accuracy = eval(indices)\n",
    "    return accuracy\n",
    "\n",
    "def get_new_features_anova(k):\n",
    "    indices = Anova(x_train,mydata_train_df,features_train,k)\n",
    "    accuracy = eval(indices)\n",
    "    return accuracy\n",
    "\n",
    "def eval(indices):\n",
    "    #Only vector of features given by chi square \n",
    "    new_training_vector = x_train[:,indices]\n",
    "    new_test_vector     = x_test[:,indices]\n",
    "    accuracy = NB(new_training_vector,new_test_vector,mydata_train_df, mydata_test_df)\n",
    "    return accuracy"
   ]
  },
  {
   "cell_type": "code",
   "execution_count": 110,
   "metadata": {},
   "outputs": [],
   "source": [
    "#Using different filters with different no. of features to find the best one\n",
    "k = [50,150,200,1000,5000,6000,9000,12000,35000,45000,55000,72828]"
   ]
  },
  {
   "cell_type": "code",
   "execution_count": 111,
   "metadata": {},
   "outputs": [
    {
     "name": "stdout",
     "output_type": "stream",
     "text": [
      "          k  accuracy\n",
      "0      50.0  0.289565\n",
      "1     150.0  0.441052\n",
      "2     200.0  0.462825\n",
      "3    1000.0  0.582183\n",
      "4    5000.0  0.645380\n",
      "5    6000.0  0.652151\n",
      "6    9000.0  0.657727\n",
      "7   12000.0  0.662772\n",
      "8   35000.0  0.654408\n",
      "9   45000.0  0.642193\n",
      "10  55000.0  0.628651\n",
      "11  72828.0  0.617499\n"
     ]
    }
   ],
   "source": [
    "results_chi = pd.DataFrame(columns=['k', 'accuracy'])\n",
    "for i in k:\n",
    "    results_chi = results_chi.append({'k': i, 'accuracy': get_new_features_chi(i)}, ignore_index=True)\n",
    "print(results_chi)"
   ]
  },
  {
   "cell_type": "code",
   "execution_count": 112,
   "metadata": {},
   "outputs": [
    {
     "name": "stdout",
     "output_type": "stream",
     "text": [
      "          k  accuracy\n",
      "0      50.0  0.344132\n",
      "1     150.0  0.441184\n",
      "2     200.0  0.475438\n",
      "3    1000.0  0.568109\n",
      "4    5000.0  0.639140\n",
      "5    6000.0  0.647106\n",
      "6    9000.0  0.658125\n",
      "7   12000.0  0.662905\n",
      "8   35000.0  0.655204\n",
      "9   45000.0  0.642592\n",
      "10  55000.0  0.627987\n",
      "11  72828.0  0.618163\n"
     ]
    }
   ],
   "source": [
    "results_mutual_info = pd.DataFrame(columns=['k', 'accuracy'])\n",
    "for i in k:\n",
    "    results_mutual_info = results_mutual_info.append({'k': i, 'accuracy': get_new_features_mut(i)}, ignore_index=True)\n",
    "print(results_mutual_info)"
   ]
  },
  {
   "cell_type": "code",
   "execution_count": 113,
   "metadata": {},
   "outputs": [
    {
     "name": "stdout",
     "output_type": "stream",
     "text": [
      "          k  accuracy\n",
      "0      50.0  0.280005\n",
      "1     150.0  0.414233\n",
      "2     200.0  0.445566\n",
      "3    1000.0  0.583643\n",
      "4    5000.0  0.646309\n",
      "5    6000.0  0.652815\n",
      "6    9000.0  0.656665\n",
      "7   12000.0  0.659719\n",
      "8   35000.0  0.652947\n",
      "9   45000.0  0.636219\n",
      "10  55000.0  0.627722\n",
      "11  72828.0  0.617100\n"
     ]
    }
   ],
   "source": [
    "results_anova = pd.DataFrame(columns=['k', 'accuracy'])\n",
    "for i in k:\n",
    "    results_anova = results_anova.append({'k': i, 'accuracy': get_new_features_anova(i)}, ignore_index=True)\n",
    "print(results_anova)"
   ]
  },
  {
   "cell_type": "code",
   "execution_count": 117,
   "metadata": {},
   "outputs": [
    {
     "data": {
      "image/png": "[encoded data removed]",
      "text/plain": [
       "<Figure size 432x288 with 1 Axes>"
      ]
     },
     "metadata": {
      "needs_background": "light"
     },
     "output_type": "display_data"
    }
   ],
   "source": [
    "results_chi.plot.bar(x=\"k\", y=\"accuracy\", rot=70, title=\"Accuracy of Naive Bayes classifier with Chi square filter\");\n",
    "plot.show(block=True);"
   ]
  },
  {
   "cell_type": "code",
   "execution_count": 118,
   "metadata": {},
   "outputs": [
    {
     "data": {
      "image/png": "[encoded data removed]",
      "text/plain": [
       "<Figure size 432x288 with 1 Axes>"
      ]
     },
     "metadata": {
      "needs_background": "light"
     },
     "output_type": "display_data"
    }
   ],
   "source": [
    "results_mutual_info.plot.bar(x=\"k\", y=\"accuracy\", rot=50, title=\"Accuracy of Naive Bayes classifier with Mutual Information filter\");\n",
    "plot.show(block=True);"
   ]
  },
  {
   "cell_type": "code",
   "execution_count": 119,
   "metadata": {},
   "outputs": [
    {
     "data": {
      "image/png": "[encoded data removed]",
      "text/plain": [
       "<Figure size 432x288 with 1 Axes>"
      ]
     },
     "metadata": {
      "needs_background": "light"
     },
     "output_type": "display_data"
    }
   ],
   "source": [
    "results_anova.plot.bar(x=\"k\", y=\"accuracy\", rot=50, title=\"Accuracy of Naive Bayes classifier with ANOVA filter\");\n",
    "plot.show(block=True);"
   ]
  },
  {
   "cell_type": "code",
   "execution_count": 91,
   "metadata": {},
   "outputs": [
    {
     "name": "stdout",
     "output_type": "stream",
     "text": [
      "Stochastic Gradient Descent\n"
     ]
    },
    {
     "name": "stderr",
     "output_type": "stream",
     "text": [
      "C:\\ProgramData\\Anaconda3\\lib\\site-packages\\ipykernel_launcher.py:8: DeprecationWarning: time.clock has been deprecated in Python 3.3 and will be removed from Python 3.8: use time.perf_counter or time.process_time instead\n",
      "  \n",
      "C:\\ProgramData\\Anaconda3\\lib\\site-packages\\ipykernel_launcher.py:12: DeprecationWarning: time.clock has been deprecated in Python 3.3 and will be removed from Python 3.8: use time.perf_counter or time.process_time instead\n",
      "  if sys.path[0] == '':\n",
      "C:\\ProgramData\\Anaconda3\\lib\\site-packages\\ipykernel_launcher.py:19: DeprecationWarning: time.clock has been deprecated in Python 3.3 and will be removed from Python 3.8: use time.perf_counter or time.process_time instead\n"
     ]
    },
    {
     "name": "stdout",
     "output_type": "stream",
     "text": [
      "With scaling 0.4060010621348911\n",
      "Without scaling 0.4060010621348911\n"
     ]
    },
    {
     "name": "stderr",
     "output_type": "stream",
     "text": [
      "C:\\ProgramData\\Anaconda3\\lib\\site-packages\\ipykernel_launcher.py:22: DeprecationWarning: time.clock has been deprecated in Python 3.3 and will be removed from Python 3.8: use time.perf_counter or time.process_time instead\n"
     ]
    }
   ],
   "source": [
    "from sklearn.linear_model import SGDClassifier\n",
    "from sklearn.pipeline import Pipeline\n",
    "from sklearn.feature_extraction.text import TfidfTransformer\n",
    "import numpy as np\n",
    "import time\n",
    "\n",
    "print(\"Stochastic Gradient Descent\")\n",
    "tic = time.clock()\n",
    "#Feature Scaling using Tdf-Idf \n",
    "text_clf = Pipeline([('tfidf', TfidfTransformer()),('clf', SGDClassifier(loss='hinge', penalty='l2',alpha=1e-3, random_state=42,max_iter=5, tol=None))])\n",
    "text_clf.fit(x_train, mydata_train_df.target)\n",
    "toc = time.clock()\n",
    "predicted = text_clf.predict(x_test)\n",
    "sgd_accuracy_tfidf = accuracy_score(mydata_test_df.target, predicted)\n",
    "print(\"With scaling\",accuracy)\n",
    "\n",
    "\n",
    "\n",
    "tic = time.clock()\n",
    "text_cl = Pipeline([('clf', SGDClassifier(loss='hinge', penalty='l2',alpha=1e-3, random_state=42,max_iter=5, tol=None))])\n",
    "text_cl.fit(x_train, mydata_train_df.target)\n",
    "toc = time.clock()\n",
    "predicted = text_cl.predict(x_test)\n",
    "sgd_accuracy_cv = accuracy_score(mydata_test_df.target, predicted)\n",
    "print(\"Without scaling\",accuracy)\n"
   ]
  },
  {
   "cell_type": "code",
   "execution_count": 73,
   "metadata": {},
   "outputs": [
    {
     "name": "stderr",
     "output_type": "stream",
     "text": [
      "C:\\ProgramData\\Anaconda3\\lib\\site-packages\\ipykernel_launcher.py:1: DeprecationWarning: time.clock has been deprecated in Python 3.3 and will be removed from Python 3.8: use time.perf_counter or time.process_time instead\n",
      "  \"\"\"Entry point for launching an IPython kernel.\n",
      "C:\\ProgramData\\Anaconda3\\lib\\site-packages\\ipykernel_launcher.py:5: DeprecationWarning: time.clock has been deprecated in Python 3.3 and will be removed from Python 3.8: use time.perf_counter or time.process_time instead\n",
      "  \"\"\"\n"
     ]
    }
   ],
   "source": [
    "tic = time.clock()\n",
    "#Feature Scaling using Tdf-Idf \n",
    "text_clf = Pipeline([('tfidf', TfidfTransformer()),('clf', LogisticRegression(solver=\"saga\"))])\n",
    "text_clf.fit(x_train, mydata_train_df.target)\n",
    "toc = time.clock()\n",
    "predicted = text_clf.predict(x_test)\n",
    "accuracy_1 = accuracy_score(mydata_test_df.target, predicted)\n"
   ]
  },
  {
   "cell_type": "code",
   "execution_count": 74,
   "metadata": {},
   "outputs": [
    {
     "name": "stderr",
     "output_type": "stream",
     "text": [
      "C:\\ProgramData\\Anaconda3\\lib\\site-packages\\ipykernel_launcher.py:1: DeprecationWarning: time.clock has been deprecated in Python 3.3 and will be removed from Python 3.8: use time.perf_counter or time.process_time instead\n",
      "  \"\"\"Entry point for launching an IPython kernel.\n",
      "C:\\ProgramData\\Anaconda3\\lib\\site-packages\\ipykernel_launcher.py:5: DeprecationWarning: time.clock has been deprecated in Python 3.3 and will be removed from Python 3.8: use time.perf_counter or time.process_time instead\n",
      "  \"\"\"\n"
     ]
    }
   ],
   "source": [
    "tic = time.clock()\n",
    "#Feature Scaling using Tdf-Idf \n",
    "text_clf = Pipeline([('clf', LogisticRegression(solver=\"saga\"))])\n",
    "text_clf.fit(x_train, mydata_train_df.target)\n",
    "toc = time.clock()\n",
    "predicted = text_clf.predict(x_test)\n",
    "accuracy_2 = accuracy_score(mydata_test_df.target, predicted)\n"
   ]
  },
  {
   "cell_type": "code",
   "execution_count": 89,
   "metadata": {},
   "outputs": [
    {
     "name": "stdout",
     "output_type": "stream",
     "text": [
      "Logistic Regression\n",
      "          scenario  accuracy\n",
      "0     With scaling  0.676713\n",
      "1  Without scaling  0.405337\n"
     ]
    }
   ],
   "source": [
    "scaling = pd.DataFrame(columns=['scenario', 'accuracy'])\n",
    "scaling = scaling.append({'scenario': 'With scaling' , 'accuracy': accuracy_1}, ignore_index=True)\n",
    "scaling = scaling.append({'scenario': 'Without scaling', 'accuracy': accuracy_2}, ignore_index=True)\n",
    "print(\"Logistic Regression\")\n",
    "print(scaling)"
   ]
  },
  {
   "cell_type": "code",
   "execution_count": 81,
   "metadata": {},
   "outputs": [
    {
     "data": {
      "image/png": "[encoded data removed]",
      "text/plain": [
       "<Figure size 432x288 with 1 Axes>"
      ]
     },
     "metadata": {
      "needs_background": "light"
     },
     "output_type": "display_data"
    }
   ],
   "source": [
    "scaling.plot.bar(x=\"scenario\", y=\"accuracy\", rot=20, title=\"Accuracy of Logistic Regression classifier with & without scaling\");\n",
    "plot.show(block=True)"
   ]
  },
  {
   "cell_type": "code",
   "execution_count": 87,
   "metadata": {},
   "outputs": [
    {
     "data": {
      "image/png": "[encoded data removed]",
      "text/plain": [
       "<Figure size 432x288 with 1 Axes>"
      ]
     },
     "metadata": {
      "needs_background": "light"
     },
     "output_type": "display_data"
    }
   ],
   "source": [
    "import numpy as np\n",
    "import matplotlib.pyplot as plt\n",
    "\n",
    "# data to plot\n",
    "n_groups = 2\n",
    "sgd = (sgd_accuracy_cv, sgd_accuracy_tfidf)\n",
    "lr = (accuracy_2,accuracy_1)\n",
    "\n",
    "# create plot\n",
    "fig, ax = plt.subplots()\n",
    "index = np.arange(n_groups)\n",
    "bar_width = 0.35\n",
    "opacity = 0.8\n",
    "\n",
    "rects1 = plt.bar(index, sgd, bar_width,\n",
    "alpha=opacity,\n",
    "color='b',\n",
    "label='SGD')\n",
    "\n",
    "rects2 = plt.bar(index + bar_width, lr, bar_width,\n",
    "alpha=opacity,\n",
    "color='g',\n",
    "label='LR')\n",
    "\n",
    "plt.xlabel('Classifiers')\n",
    "plt.ylabel('Accuracy')\n",
    "plt.title('Accuracy of classifiers with & without scaling')\n",
    "plt.xticks(index + bar_width, ('Without Scaling ', 'With Scaling'))\n",
    "plt.legend()\n",
    "\n",
    "plt.tight_layout()\n",
    "plt.show()"
   ]
  },
  {
   "cell_type": "code",
   "execution_count": null,
   "metadata": {},
   "outputs": [],
   "source": []
  }
 ],
 "metadata": {
  "kernelspec": {
   "display_name": "Python 3",
   "language": "python",
   "name": "python3"
  },
  "language_info": {
   "codemirror_mode": {
    "name": "ipython",
    "version": 3
   },
   "file_extension": ".py",
   "mimetype": "text/x-python",
   "name": "python",
   "nbconvert_exporter": "python",
   "pygments_lexer": "ipython3",
   "version": "3.7.4"
  }
 },
 "nbformat": 4,
 "nbformat_minor": 2
}
